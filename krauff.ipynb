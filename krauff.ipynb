{
 "cells": [
  {
   "cell_type": "code",
   "execution_count": 25,
   "metadata": {},
   "outputs": [
    {
     "name": "stdout",
     "output_type": "stream",
     "text": [
      "M =  2\n",
      "V =  3\n",
      "ti =  [1, 2]\n",
      "\n",
      "\n",
      "---------------------------------------------\n",
      "ai =  [0.4, 1]\n",
      "x =  [1, 2.0, 1.0, 1.3333333333333333]\n",
      "P =  [0.1875, 2.0, 0.1875, 1.3333333333333333]\n",
      "b1 =  1.3333333333333333\n",
      "b2 =  1.5208333333333333\n",
      "---------------------------------------------\n",
      "\n",
      "\n",
      "---------------------------------------------\n",
      "ai =  [1, 2]\n",
      "x =  [1, 4.0, 2.0, 5.333333333333333]\n",
      "P =  [0.08108108108108109, 4.0, 0.16216216216216217, 5.333333333333333]\n",
      "b1 =  5.333333333333333\n",
      "b2 =  5.495495495495495\n",
      "---------------------------------------------\n",
      "\n",
      "\n"
     ]
    }
   ],
   "source": [
    "# M=2\n",
    "# V=3\n",
    "#    t1,t2\n",
    "# t=[1,2]\n",
    "#    0,1\n",
    "#    a1,a2\n",
    "# t=[0.4,1]\n",
    "#    0,1\n",
    "\n",
    "def calc_x(V, M, a, t):\n",
    "    x = [1] * (V + 1)\n",
    "    for n in range(1, V+1):\n",
    "        sum = 0\n",
    "        for i in range(1, M):\n",
    "            sum += a[i] * t[i] * x[n - t[i]]\n",
    "        x[n] = sum / n\n",
    "    return x\n",
    "\n",
    "def calc_p0(x):\n",
    "    sum = 0\n",
    "    for item in x:\n",
    "        sum += item\n",
    "    return 1 / sum\n",
    "\n",
    "def calc_pn(x, V, M, a, t):\n",
    "    P = [1] * (V + 1)\n",
    "    P[0] = calc_p0(x)\n",
    "    for n in range(1, V+1):\n",
    "        sum = 0\n",
    "        for i in range(1, M):\n",
    "            sum += a[i] * t[i] * P[n - t[i]]\n",
    "        P[n] = sum / n\n",
    "    return P\n",
    "\n",
    "\n",
    "def calc_bn(P, V, t, i=1):\n",
    "    sum = 0\n",
    "    for n in range(V - t[i -1] + 1, V + 1):\n",
    "        sum += P[n]\n",
    "    return sum\n",
    "\n",
    "def calc_all(M, V, t, a):\n",
    "    x = calc_x(V, M, a, t)\n",
    "    P = calc_pn(x, V, M, a, t)\n",
    "    b1 = calc_bn(P, V, t, 1)\n",
    "    b2 = calc_bn(P, V, t, 2)\n",
    "\n",
    "    print(\"x = \", x)\n",
    "    print(\"P = \", P)\n",
    "    print(\"b1 = \", b1)\n",
    "    print(\"b2 = \", b2)\n",
    "\n",
    "M = 2\n",
    "V = 3\n",
    "t = [1, 2]\n",
    "a = [[0.4, 1], [1, 2]]\n",
    "\n",
    "print(\"M = \", M)\n",
    "print(\"V = \", V)\n",
    "print(\"ti = \", t)\n",
    "print(\"\\n\")\n",
    "\n",
    "for item in a:\n",
    "    print(\"---\" * 15)\n",
    "    print(\"ai = \", item)\n",
    "    calc_all(M, V, t, item)\n",
    "    print(\"---\" * 15)\n",
    "    print(\"\\n\")"
   ]
  }
 ],
 "metadata": {
  "kernelspec": {
   "display_name": "Python 3.10.7 64-bit",
   "language": "python",
   "name": "python3"
  },
  "language_info": {
   "codemirror_mode": {
    "name": "ipython",
    "version": 3
   },
   "file_extension": ".py",
   "mimetype": "text/x-python",
   "name": "python",
   "nbconvert_exporter": "python",
   "pygments_lexer": "ipython3",
   "version": "3.10.7"
  },
  "orig_nbformat": 4,
  "vscode": {
   "interpreter": {
    "hash": "b0fa6594d8f4cbf19f97940f81e996739fb7646882a419484c72d19e05852a7e"
   }
  }
 },
 "nbformat": 4,
 "nbformat_minor": 2
}
