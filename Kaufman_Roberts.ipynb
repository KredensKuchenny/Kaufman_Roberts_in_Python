{
 "cells": [
  {
   "cell_type": "code",
   "execution_count": 2,
   "metadata": {},
   "outputs": [
    {
     "name": "stdout",
     "output_type": "stream",
     "text": [
      "M =  2\n",
      "V =  3\n",
      "ti =  [1, 2]\n",
      "\n",
      "\n",
      "---------------------------------------------\n",
      "ai =  [0.4, 1]\n",
      "x =  [1, 0.4, 1.08, 0.41066666666666674]\n",
      "P =  [0.3459409594095941, 0.13837638376383762, 0.3736162361623616, 0.14206642066420663]\n",
      "b1 =  0.14206642066420663\n",
      "b2 =  0.5156826568265682\n",
      "---------------------------------------------\n",
      "\n",
      "\n",
      "---------------------------------------------\n",
      "ai =  [1, 2]\n",
      "x =  [1, 1.0, 2.5, 2.1666666666666665]\n",
      "P =  [0.15000000000000002, 0.15000000000000002, 0.37500000000000006, 0.325]\n",
      "b1 =  0.325\n",
      "b2 =  0.7000000000000001\n",
      "---------------------------------------------\n",
      "\n",
      "\n"
     ]
    }
   ],
   "source": [
    "# M=2\n",
    "# V=3\n",
    "#    t1,t2\n",
    "# t=[1,2]\n",
    "#    0,1\n",
    "#    a1,a2\n",
    "# t=[0.4,1]\n",
    "#    0,1\n",
    "\n",
    "def calc_x(V, M, a, t):\n",
    "    x = [1] * (V + 1)\n",
    "    for n in range(1, V+1):\n",
    "        sum = 0\n",
    "        for i in range(0, M):\n",
    "            if n >= t[i]:\n",
    "                sum += a[i] * t[i] * x[n - t[i]]\n",
    "        x[n] = sum / n\n",
    "    return x\n",
    "\n",
    "def calc_p0(x):\n",
    "    sum = 0\n",
    "    for item in x:\n",
    "        sum += item\n",
    "    return 1 / sum\n",
    "\n",
    "def calc_pn(x, V, M, a, t):\n",
    "    P = [1] * (V + 1)\n",
    "    P[0] = calc_p0(x)\n",
    "    for n in range(1, V+1):\n",
    "        sum = 0\n",
    "        for i in range(0, M):\n",
    "            if n >= t[i]:\n",
    "                sum += a[i] * t[i] * P[n - t[i]]\n",
    "        P[n] = sum / n\n",
    "    return P\n",
    "\n",
    "\n",
    "def calc_bn(P, V, t, i=1):\n",
    "    sum = 0\n",
    "    for n in range(V - t[i -1] + 1, V + 1):\n",
    "        sum += P[n]\n",
    "    return sum\n",
    "\n",
    "def calc_all(M, V, t, a):\n",
    "    x = calc_x(V, M, a, t)\n",
    "    P = calc_pn(x, V, M, a, t)\n",
    "    b1 = calc_bn(P, V, t, 1)\n",
    "    b2 = calc_bn(P, V, t, 2)\n",
    "\n",
    "    print(\"x = \", x)\n",
    "    print(\"P = \", P)\n",
    "    print(\"b1 = \", b1)\n",
    "    print(\"b2 = \", b2)\n",
    "\n",
    "M = 2\n",
    "V = 3\n",
    "t = [1, 2]\n",
    "a = [[0.4, 1], [1, 2]]\n",
    "\n",
    "print(\"M = \", M)\n",
    "print(\"V = \", V)\n",
    "print(\"ti = \", t)\n",
    "print(\"\\n\")\n",
    "\n",
    "for item in a:\n",
    "    print(\"---\" * 15)\n",
    "    print(\"ai = \", item)\n",
    "    calc_all(M, V, t, item)\n",
    "    print(\"---\" * 15)\n",
    "    print(\"\\n\")"
   ]
  }
 ],
 "metadata": {
  "kernelspec": {
   "display_name": "Python 3.10.7 64-bit",
   "language": "python",
   "name": "python3"
  },
  "language_info": {
   "codemirror_mode": {
    "name": "ipython",
    "version": 3
   },
   "file_extension": ".py",
   "mimetype": "text/x-python",
   "name": "python",
   "nbconvert_exporter": "python",
   "pygments_lexer": "ipython3",
   "version": "3.10.7"
  },
  "orig_nbformat": 4,
  "vscode": {
   "interpreter": {
    "hash": "b0fa6594d8f4cbf19f97940f81e996739fb7646882a419484c72d19e05852a7e"
   }
  }
 },
 "nbformat": 4,
 "nbformat_minor": 2
}
